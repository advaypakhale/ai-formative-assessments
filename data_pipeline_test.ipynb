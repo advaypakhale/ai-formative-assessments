{
 "cells": [
  {
   "cell_type": "markdown",
   "metadata": {},
   "source": [
    "# Initialise Firebase Application"
   ]
  },
  {
   "cell_type": "code",
   "execution_count": 1,
   "metadata": {},
   "outputs": [],
   "source": [
    "import firebase_admin\n",
    "from firebase_admin import credentials\n",
    "from firebase_admin import firestore\n",
    "\n",
    "# Use a service account.\n",
    "cred = credentials.Certificate(\n",
    "    \"ai-formative-assessments-firebase-adminsdk-qlzlv-0941d85561.json\"\n",
    ")\n",
    "app = firebase_admin.initialize_app(cred)\n",
    "db = firestore.client()"
   ]
  },
  {
   "cell_type": "markdown",
   "metadata": {},
   "source": [
    "# Read Data From Excel File"
   ]
  },
  {
   "cell_type": "code",
   "execution_count": 2,
   "metadata": {},
   "outputs": [],
   "source": [
    "import pandas as pd\n",
    "import json"
   ]
  },
  {
   "cell_type": "code",
   "execution_count": 3,
   "metadata": {},
   "outputs": [
    {
     "data": {
      "text/plain": [
       "[{'question': 'The rate of photosynthesis is affected by the colour of light. The colour of light is a limiting factor. \\n\\nUsing the colour of light, explain the term limiting factor.',\n",
       "  'marking_scheme': ['The rate of photosynthesis will increase or decrease ',\n",
       "   'when there is a change in the colour of light used.']},\n",
       " {'question': 'Describe how urea in the blood enters the nephrons and is removed through the renal pelvis.',\n",
       "  'marking_scheme': ['The diameter of the lumen of the afferent arteriole is larger than the efferent arteriole. This generates a high hydrostatic pressure at the glomerulus',\n",
       "   'Urea is forced through the glomerulus wall and basement membrane by ultra-filtration',\n",
       "   'are collected in the bowman’s capsule and collecting duct.']},\n",
       " {'question': 'Adam’s heart rate increased to 160 bpm during his sprint to the car park after hearing the fire alarm. \\n\\nSuggest two body responses not mentioned in the passage that occurs as a result of the stimulus.',\n",
       "  'marking_scheme': ['Increased breathing rate to increase uptake of oxygen',\n",
       "   'Increased conversion of glycogen in liver & muscles into glucose',\n",
       "   '']},\n",
       " {'question': 'Describe the relationship between genes, chromosomes and DNA.',\n",
       "  'marking_scheme': ['DNA is a molecule made out of 2 strands of polynucleotides that are tied together by hydrogen bonds and twisted into a double helix and codes for a specific polypeptide.',\n",
       "   'A gene is a hereditary unit consists of a sequence of DNA that occupies a specific location on the chromosome and the function of the gene is to control the production of one protein/polypeptide.',\n",
       "   'A chromosome is a threadlike structure consists of many sequence of genes that determines a characteristic of an organism.']},\n",
       " {'question': 'Thalassemia is an inherited blood disorder that occurs when there is a defect in the haemoglobin protein molecule in red blood cells. It is inherited as a recessive allele and results in an abnormal form of haemoglobin.\\n\\nSuggest how this defect may have come about and explain how this results in an abnormal form of haemoglobin.',\n",
       "  'marking_scheme': ['This defect could have been brought about by (random) gene mutations.',\n",
       "   'This mutation results in a change in the DNA nucleotide sequence, leading to ',\n",
       "   'change in the polypeptide chain affecting the haemoglobin molecule formed.']},\n",
       " {'question': 'The liver is involved in carbohydrate metabolism.\\nDescribe the role of the liver during fasting, and breaking fast with a meal rich in carbohydrates.',\n",
       "  'marking_scheme': ['Glucose level in blood low/ lower than normal, pancreas stimulated to secrete more glucagon',\n",
       "   'Glucagon stimulates liver to convert stored glycogen to glucose, diffusing into blood stream',\n",
       "   'After breaking fast with a meal rich in carbohydrates:Glucose level in blood rises/ rises above normal, pancreas secretes more insulin into bloodstream',\n",
       "   'Insulin stimulates liver to convert excess glucose into glycogen which is stored in liver and muscles']},\n",
       " {'question': 'Sodium ions cross cell surface membranes using facilitated diffusion or active transport.\\nExplain why sodium ions cross cell surface membranes by these mechanisms and not by simple diffusion.',\n",
       "  'marking_scheme': ['Sodium ions are charged and hydrophilic;',\n",
       "   'They cannot pass through the hydrophobic core* of the phospholipid bilayer of membrane;',\n",
       "   'So must pass through transport proteins/carrier proteins with hydrophilic pore/channel embedded on cell surface membrane involved in facilitated diffusion or active transport.']},\n",
       " {'question': 'Compare the structures of the nucleus and mitochondrion.',\n",
       "  'marking_scheme': ['Both nucleus and mitochondrion are enclosed by a double membrane',\n",
       "   'Both contain DNA;',\n",
       "   'Mitochondrion has a highly folded inner membrane forming cristae, while the inner nuclear membrane is not folded;',\n",
       "   'Nucleus has nuclear pores in its nuclear envelope, while mitochondrion does not have pores in its double membrane;']},\n",
       " {'question': 'Define diffusion osmosis and active transport',\n",
       "  'marking_scheme': ['Diffusion is the net movement of particles in solid, liquid or gaseous state, down a concentration gradient without the need of energy',\n",
       "   'Osmosis is the net movement of water molecules from a region of higher water potential to a region of lower water potential, through a partially permeable membrane.',\n",
       "   'Active transport is a process in which energy from cellular respiration is used to move particles against a concentration gradient across a partially permeable membrane.']},\n",
       " {'question': 'Describes the importance of diffusion in nutrient uptake and gaseous exchange in plants and humans',\n",
       "  'marking_scheme': ['For nutrient uptake in humans, diffusion allows digested food substances like glucose and amino acids to be absorbed from the small intestine into blood capillaries. Both active transport and diffusion can occur in this process.',\n",
       "   'Regarding gaseous exchange in humans, diffusion of oxygen from alveolar air spaces into blood capillaries through the alveolar walls allows oxygen to be transported to all parts of the body. Similarly, diffusion of carbon dioxide from respiring cells into the blood and through the alveolar walls allows the removal of carbon dioxide from the body.',\n",
       "   'For gaseous exchange in plants, the diffusion of water vapor out of the stomata allows transpiration to occur. Transpiration is important as it draws water and mineral salts from the roots to the stem and leaf. Additionally, the latent heat of vaporization is removed during the evaporation of water from the cells in the leaves, cooling the plant. This process also helps keep the plant cells turgid, maintaining the shape of the plant.']},\n",
       " {'question': 'Functions of fats',\n",
       "  'marking_scheme': ['A source and store of energy when there is insufficient glycogen. Fats would be oxidized to give twice the amount of energy for metabolic reactions.',\n",
       "   'An insulating material in adipose tissues under the skin and around vital organs to prevent excessive heat loss. (Mammals which live in the water tend to lose heat quickly, so they have a thick layer of fat beneath the skin to reduce loss of body heat).',\n",
       "   'Solvent for fat-soluble vitamins (A, D, E, K).',\n",
       "   'An essential part of protoplasm, especially in cell membranes.',\n",
       "   'A way to reduce water loss from the skin surface. (Glands in the skin secrete an oily substance which forms a thin layer on the skin surface, reducing the rate of evaporation of water and thus reducing heat loss from the skin.)',\n",
       "   'Synthesis of certain hormones, e.g., sex hormones and steroids.']},\n",
       " {'question': 'Define enzymes',\n",
       "  'marking_scheme': ['Biological catalysts made of protein which speed up the rate of chemical reactions by ',\n",
       "   'lowering the activation energy required to start the reaction ',\n",
       "   'without being chemically changed at the end of the reaction.']}]"
      ]
     },
     "execution_count": 3,
     "metadata": {},
     "output_type": "execute_result"
    }
   ],
   "source": [
    "xl = pd.ExcelFile(\"question_list.xlsx\")\n",
    "df = xl.parse(\"Bio\")\n",
    "\n",
    "questions = df[\"Question\"]\n",
    "marking_schemes = df[\"Marking Scheme\"]\n",
    "data = []\n",
    "\n",
    "for question, marking_scheme in zip(questions, marking_schemes):\n",
    "    data_dict = {}\n",
    "    data_dict[\"question\"] = question\n",
    "    data_dict[\"marking_scheme\"] = marking_scheme.split(\"\\n\")\n",
    "    data.append(data_dict)\n",
    "\n",
    "data"
   ]
  },
  {
   "cell_type": "code",
   "execution_count": 4,
   "metadata": {},
   "outputs": [],
   "source": [
    "with open(\"question_list.json\", \"w\") as f:\n",
    "    json.dump(data, f)"
   ]
  },
  {
   "cell_type": "markdown",
   "metadata": {},
   "source": [
    "# Push Data to Firebase"
   ]
  },
  {
   "cell_type": "code",
   "execution_count": 5,
   "metadata": {},
   "outputs": [
    {
     "data": {
      "text/plain": [
       "{'0': {'question': 'The rate of photosynthesis is affected by the colour of light. The colour of light is a limiting factor. \\n\\nUsing the colour of light, explain the term limiting factor.',\n",
       "  'marking_scheme': {'0': 'The rate of photosynthesis will increase or decrease ',\n",
       "   '1': 'when there is a change in the colour of light used.'}},\n",
       " '1': {'question': 'Describe how urea in the blood enters the nephrons and is removed through the renal pelvis.',\n",
       "  'marking_scheme': {'0': 'The diameter of the lumen of the afferent arteriole is larger than the efferent arteriole. This generates a high hydrostatic pressure at the glomerulus',\n",
       "   '1': 'Urea is forced through the glomerulus wall and basement membrane by ultra-filtration',\n",
       "   '2': 'are collected in the bowman’s capsule and collecting duct.'}},\n",
       " '2': {'question': 'Adam’s heart rate increased to 160 bpm during his sprint to the car park after hearing the fire alarm. \\n\\nSuggest two body responses not mentioned in the passage that occurs as a result of the stimulus.',\n",
       "  'marking_scheme': {'0': 'Increased breathing rate to increase uptake of oxygen',\n",
       "   '1': 'Increased conversion of glycogen in liver & muscles into glucose',\n",
       "   '2': ''}},\n",
       " '3': {'question': 'Describe the relationship between genes, chromosomes and DNA.',\n",
       "  'marking_scheme': {'0': 'DNA is a molecule made out of 2 strands of polynucleotides that are tied together by hydrogen bonds and twisted into a double helix and codes for a specific polypeptide.',\n",
       "   '1': 'A gene is a hereditary unit consists of a sequence of DNA that occupies a specific location on the chromosome and the function of the gene is to control the production of one protein/polypeptide.',\n",
       "   '2': 'A chromosome is a threadlike structure consists of many sequence of genes that determines a characteristic of an organism.'}},\n",
       " '4': {'question': 'Thalassemia is an inherited blood disorder that occurs when there is a defect in the haemoglobin protein molecule in red blood cells. It is inherited as a recessive allele and results in an abnormal form of haemoglobin.\\n\\nSuggest how this defect may have come about and explain how this results in an abnormal form of haemoglobin.',\n",
       "  'marking_scheme': {'0': 'This defect could have been brought about by (random) gene mutations.',\n",
       "   '1': 'This mutation results in a change in the DNA nucleotide sequence, leading to ',\n",
       "   '2': 'change in the polypeptide chain affecting the haemoglobin molecule formed.'}},\n",
       " '5': {'question': 'The liver is involved in carbohydrate metabolism.\\nDescribe the role of the liver during fasting, and breaking fast with a meal rich in carbohydrates.',\n",
       "  'marking_scheme': {'0': 'Glucose level in blood low/ lower than normal, pancreas stimulated to secrete more glucagon',\n",
       "   '1': 'Glucagon stimulates liver to convert stored glycogen to glucose, diffusing into blood stream',\n",
       "   '2': 'After breaking fast with a meal rich in carbohydrates:Glucose level in blood rises/ rises above normal, pancreas secretes more insulin into bloodstream',\n",
       "   '3': 'Insulin stimulates liver to convert excess glucose into glycogen which is stored in liver and muscles'}},\n",
       " '6': {'question': 'Sodium ions cross cell surface membranes using facilitated diffusion or active transport.\\nExplain why sodium ions cross cell surface membranes by these mechanisms and not by simple diffusion.',\n",
       "  'marking_scheme': {'0': 'Sodium ions are charged and hydrophilic;',\n",
       "   '1': 'They cannot pass through the hydrophobic core* of the phospholipid bilayer of membrane;',\n",
       "   '2': 'So must pass through transport proteins/carrier proteins with hydrophilic pore/channel embedded on cell surface membrane involved in facilitated diffusion or active transport.'}},\n",
       " '7': {'question': 'Compare the structures of the nucleus and mitochondrion.',\n",
       "  'marking_scheme': {'0': 'Both nucleus and mitochondrion are enclosed by a double membrane',\n",
       "   '1': 'Both contain DNA;',\n",
       "   '2': 'Mitochondrion has a highly folded inner membrane forming cristae, while the inner nuclear membrane is not folded;',\n",
       "   '3': 'Nucleus has nuclear pores in its nuclear envelope, while mitochondrion does not have pores in its double membrane;'}},\n",
       " '8': {'question': 'Define diffusion osmosis and active transport',\n",
       "  'marking_scheme': {'0': 'Diffusion is the net movement of particles in solid, liquid or gaseous state, down a concentration gradient without the need of energy',\n",
       "   '1': 'Osmosis is the net movement of water molecules from a region of higher water potential to a region of lower water potential, through a partially permeable membrane.',\n",
       "   '2': 'Active transport is a process in which energy from cellular respiration is used to move particles against a concentration gradient across a partially permeable membrane.'}},\n",
       " '9': {'question': 'Describes the importance of diffusion in nutrient uptake and gaseous exchange in plants and humans',\n",
       "  'marking_scheme': {'0': 'For nutrient uptake in humans, diffusion allows digested food substances like glucose and amino acids to be absorbed from the small intestine into blood capillaries. Both active transport and diffusion can occur in this process.',\n",
       "   '1': 'Regarding gaseous exchange in humans, diffusion of oxygen from alveolar air spaces into blood capillaries through the alveolar walls allows oxygen to be transported to all parts of the body. Similarly, diffusion of carbon dioxide from respiring cells into the blood and through the alveolar walls allows the removal of carbon dioxide from the body.',\n",
       "   '2': 'For gaseous exchange in plants, the diffusion of water vapor out of the stomata allows transpiration to occur. Transpiration is important as it draws water and mineral salts from the roots to the stem and leaf. Additionally, the latent heat of vaporization is removed during the evaporation of water from the cells in the leaves, cooling the plant. This process also helps keep the plant cells turgid, maintaining the shape of the plant.'}},\n",
       " '10': {'question': 'Functions of fats',\n",
       "  'marking_scheme': {'0': 'A source and store of energy when there is insufficient glycogen. Fats would be oxidized to give twice the amount of energy for metabolic reactions.',\n",
       "   '1': 'An insulating material in adipose tissues under the skin and around vital organs to prevent excessive heat loss. (Mammals which live in the water tend to lose heat quickly, so they have a thick layer of fat beneath the skin to reduce loss of body heat).',\n",
       "   '2': 'Solvent for fat-soluble vitamins (A, D, E, K).',\n",
       "   '3': 'An essential part of protoplasm, especially in cell membranes.',\n",
       "   '4': 'A way to reduce water loss from the skin surface. (Glands in the skin secrete an oily substance which forms a thin layer on the skin surface, reducing the rate of evaporation of water and thus reducing heat loss from the skin.)',\n",
       "   '5': 'Synthesis of certain hormones, e.g., sex hormones and steroids.'}},\n",
       " '11': {'question': 'Define enzymes',\n",
       "  'marking_scheme': {'0': 'Biological catalysts made of protein which speed up the rate of chemical reactions by ',\n",
       "   '1': 'lowering the activation energy required to start the reaction ',\n",
       "   '2': 'without being chemically changed at the end of the reaction.'}}}"
      ]
     },
     "execution_count": 5,
     "metadata": {},
     "output_type": "execute_result"
    }
   ],
   "source": [
    "data_proc = {}\n",
    "\n",
    "for i, data_dict in enumerate(data):\n",
    "    marking_scheme_dict = {}\n",
    "\n",
    "    for j, marking_point in enumerate(data_dict[\"marking_scheme\"]):\n",
    "        marking_scheme_dict[str(j)] = marking_point\n",
    "\n",
    "    data_proc[str(i)] = data_dict.copy()\n",
    "    data_proc[str(i)][\"marking_scheme\"] = marking_scheme_dict\n",
    "\n",
    "data_proc"
   ]
  },
  {
   "cell_type": "code",
   "execution_count": 6,
   "metadata": {},
   "outputs": [
    {
     "data": {
      "text/plain": [
       "update_time {\n",
       "  seconds: 1710789347\n",
       "  nanos: 197888000\n",
       "}"
      ]
     },
     "execution_count": 6,
     "metadata": {},
     "output_type": "execute_result"
    }
   ],
   "source": [
    "doc_ref = db.collection(\"example\").document(\"questions_list\")\n",
    "doc_ref.set(data_proc)"
   ]
  },
  {
   "cell_type": "markdown",
   "metadata": {},
   "source": [
    "# Pull Data From Firebase"
   ]
  },
  {
   "cell_type": "code",
   "execution_count": 7,
   "metadata": {},
   "outputs": [],
   "source": [
    "doc_ref = db.collection(\"example\").document(\"questions_list\")\n",
    "doc = doc_ref.get()\n",
    "if doc.exists:\n",
    "    doc_dict = doc.to_dict()"
   ]
  },
  {
   "cell_type": "code",
   "execution_count": 8,
   "metadata": {},
   "outputs": [
    {
     "data": {
      "text/plain": [
       "{'0': {'question': 'The rate of photosynthesis is affected by the colour of light. The colour of light is a limiting factor. \\n\\nUsing the colour of light, explain the term limiting factor.',\n",
       "  'marking_scheme': {'0': 'The rate of photosynthesis will increase or decrease ',\n",
       "   '1': 'when there is a change in the colour of light used.'}},\n",
       " '7': {'question': 'Compare the structures of the nucleus and mitochondrion.',\n",
       "  'marking_scheme': {'0': 'Both nucleus and mitochondrion are enclosed by a double membrane',\n",
       "   '3': 'Nucleus has nuclear pores in its nuclear envelope, while mitochondrion does not have pores in its double membrane;',\n",
       "   '1': 'Both contain DNA;',\n",
       "   '2': 'Mitochondrion has a highly folded inner membrane forming cristae, while the inner nuclear membrane is not folded;'}},\n",
       " '9': {'question': 'Describes the importance of diffusion in nutrient uptake and gaseous exchange in plants and humans',\n",
       "  'marking_scheme': {'0': 'For nutrient uptake in humans, diffusion allows digested food substances like glucose and amino acids to be absorbed from the small intestine into blood capillaries. Both active transport and diffusion can occur in this process.',\n",
       "   '1': 'Regarding gaseous exchange in humans, diffusion of oxygen from alveolar air spaces into blood capillaries through the alveolar walls allows oxygen to be transported to all parts of the body. Similarly, diffusion of carbon dioxide from respiring cells into the blood and through the alveolar walls allows the removal of carbon dioxide from the body.',\n",
       "   '2': 'For gaseous exchange in plants, the diffusion of water vapor out of the stomata allows transpiration to occur. Transpiration is important as it draws water and mineral salts from the roots to the stem and leaf. Additionally, the latent heat of vaporization is removed during the evaporation of water from the cells in the leaves, cooling the plant. This process also helps keep the plant cells turgid, maintaining the shape of the plant.'}},\n",
       " '1': {'question': 'Describe how urea in the blood enters the nephrons and is removed through the renal pelvis.',\n",
       "  'marking_scheme': {'0': 'The diameter of the lumen of the afferent arteriole is larger than the efferent arteriole. This generates a high hydrostatic pressure at the glomerulus',\n",
       "   '1': 'Urea is forced through the glomerulus wall and basement membrane by ultra-filtration',\n",
       "   '2': 'are collected in the bowman’s capsule and collecting duct.'}},\n",
       " '5': {'question': 'The liver is involved in carbohydrate metabolism.\\nDescribe the role of the liver during fasting, and breaking fast with a meal rich in carbohydrates.',\n",
       "  'marking_scheme': {'0': 'Glucose level in blood low/ lower than normal, pancreas stimulated to secrete more glucagon',\n",
       "   '3': 'Insulin stimulates liver to convert excess glucose into glycogen which is stored in liver and muscles',\n",
       "   '1': 'Glucagon stimulates liver to convert stored glycogen to glucose, diffusing into blood stream',\n",
       "   '2': 'After breaking fast with a meal rich in carbohydrates:Glucose level in blood rises/ rises above normal, pancreas secretes more insulin into bloodstream'}},\n",
       " '2': {'question': 'Adam’s heart rate increased to 160 bpm during his sprint to the car park after hearing the fire alarm. \\n\\nSuggest two body responses not mentioned in the passage that occurs as a result of the stimulus.',\n",
       "  'marking_scheme': {'0': 'Increased breathing rate to increase uptake of oxygen',\n",
       "   '1': 'Increased conversion of glycogen in liver & muscles into glucose',\n",
       "   '2': ''}},\n",
       " '6': {'question': 'Sodium ions cross cell surface membranes using facilitated diffusion or active transport.\\nExplain why sodium ions cross cell surface membranes by these mechanisms and not by simple diffusion.',\n",
       "  'marking_scheme': {'0': 'Sodium ions are charged and hydrophilic;',\n",
       "   '1': 'They cannot pass through the hydrophobic core* of the phospholipid bilayer of membrane;',\n",
       "   '2': 'So must pass through transport proteins/carrier proteins with hydrophilic pore/channel embedded on cell surface membrane involved in facilitated diffusion or active transport.'}},\n",
       " '8': {'question': 'Define diffusion osmosis and active transport',\n",
       "  'marking_scheme': {'0': 'Diffusion is the net movement of particles in solid, liquid or gaseous state, down a concentration gradient without the need of energy',\n",
       "   '1': 'Osmosis is the net movement of water molecules from a region of higher water potential to a region of lower water potential, through a partially permeable membrane.',\n",
       "   '2': 'Active transport is a process in which energy from cellular respiration is used to move particles against a concentration gradient across a partially permeable membrane.'}},\n",
       " '3': {'question': 'Describe the relationship between genes, chromosomes and DNA.',\n",
       "  'marking_scheme': {'0': 'DNA is a molecule made out of 2 strands of polynucleotides that are tied together by hydrogen bonds and twisted into a double helix and codes for a specific polypeptide.',\n",
       "   '1': 'A gene is a hereditary unit consists of a sequence of DNA that occupies a specific location on the chromosome and the function of the gene is to control the production of one protein/polypeptide.',\n",
       "   '2': 'A chromosome is a threadlike structure consists of many sequence of genes that determines a characteristic of an organism.'}},\n",
       " '4': {'question': 'Thalassemia is an inherited blood disorder that occurs when there is a defect in the haemoglobin protein molecule in red blood cells. It is inherited as a recessive allele and results in an abnormal form of haemoglobin.\\n\\nSuggest how this defect may have come about and explain how this results in an abnormal form of haemoglobin.',\n",
       "  'marking_scheme': {'0': 'This defect could have been brought about by (random) gene mutations.',\n",
       "   '1': 'This mutation results in a change in the DNA nucleotide sequence, leading to ',\n",
       "   '2': 'change in the polypeptide chain affecting the haemoglobin molecule formed.'}},\n",
       " '10': {'question': 'Functions of fats',\n",
       "  'marking_scheme': {'0': 'A source and store of energy when there is insufficient glycogen. Fats would be oxidized to give twice the amount of energy for metabolic reactions.',\n",
       "   '3': 'An essential part of protoplasm, especially in cell membranes.',\n",
       "   '4': 'A way to reduce water loss from the skin surface. (Glands in the skin secrete an oily substance which forms a thin layer on the skin surface, reducing the rate of evaporation of water and thus reducing heat loss from the skin.)',\n",
       "   '1': 'An insulating material in adipose tissues under the skin and around vital organs to prevent excessive heat loss. (Mammals which live in the water tend to lose heat quickly, so they have a thick layer of fat beneath the skin to reduce loss of body heat).',\n",
       "   '5': 'Synthesis of certain hormones, e.g., sex hormones and steroids.',\n",
       "   '2': 'Solvent for fat-soluble vitamins (A, D, E, K).'}},\n",
       " '11': {'question': 'Define enzymes',\n",
       "  'marking_scheme': {'0': 'Biological catalysts made of protein which speed up the rate of chemical reactions by ',\n",
       "   '1': 'lowering the activation energy required to start the reaction ',\n",
       "   '2': 'without being chemically changed at the end of the reaction.'}}}"
      ]
     },
     "execution_count": 8,
     "metadata": {},
     "output_type": "execute_result"
    }
   ],
   "source": [
    "doc_dict"
   ]
  }
 ],
 "metadata": {
  "kernelspec": {
   "display_name": "streamlit",
   "language": "python",
   "name": "python3"
  },
  "language_info": {
   "codemirror_mode": {
    "name": "ipython",
    "version": 3
   },
   "file_extension": ".py",
   "mimetype": "text/x-python",
   "name": "python",
   "nbconvert_exporter": "python",
   "pygments_lexer": "ipython3",
   "version": "3.12.2"
  }
 },
 "nbformat": 4,
 "nbformat_minor": 2
}
